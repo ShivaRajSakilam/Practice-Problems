{
 "cells": [
  {
   "cell_type": "code",
   "execution_count": 2,
   "metadata": {},
   "outputs": [
    {
     "name": "stdout",
     "output_type": "stream",
     "text": [
      "    x   y\n",
      "0  12  39\n",
      "1  20  36\n",
      "2  28  30\n",
      "3  18  52\n",
      "4  29  54\n",
      "{1: [26, 16], 2: [68, 42], 3: [55, 76]}\n"
     ]
    }
   ],
   "source": [
    "# #Initialization\n",
    "\n",
    "import pandas as pd\n",
    "import numpy as np\n",
    "import matplotlib.pyplot as plt\n",
    "%matplotlib inline\n",
    "\n",
    "\n",
    "df=pd.DataFrame({\n",
    "    'x':[12, 20, 28, 18, 29, 33, 24, 45, 45, 52, 51, 52, 55, 53, 55, 61, 64, 69, 72],\n",
    "    'y':[39, 36, 30, 52, 54, 46, 55, 59, 63, 70, 66, 63, 58, 23, 14, 8, 19, 7, 24]\n",
    "    \n",
    "})\n",
    "print(df.head())\n",
    "\n",
    "np.random.seed(200)\n",
    "k=3\n",
    "\n",
    "centroids={\n",
    "    i+1: [np.random.randint(0,80), np.random.randint(0,80)] for i in range(k) \n",
    "    }\n",
    "print(centroids)\n",
    "\n",
    "# fig=plt.figure(figsize=(5,5))\n",
    "# plt.scatter(df['x'], df['y'], color='k')\n",
    "# colmap={1:'r', 2:'g', 3:'b'}\n",
    "# for i in centroids.keys():\n",
    "#     plt.scatter(*centroids[i], color=colmap[i])\n",
    "# plt.grid()\n",
    "# plt.xlim(0,80)\n",
    "# plt.ylim(0,80)\n",
    "# plt.show()\n",
    "# print(*centroids[i])"
   ]
  },
  {
   "cell_type": "code",
   "execution_count": null,
   "metadata": {
    "scrolled": true
   },
   "outputs": [],
   "source": [
    "## Assignment stage\n",
    "def assigment(df, centroids):\n",
    "    for i in centroids.keys():\n",
    "#         print(centroids.keys())\n",
    "        #sqrt((x1- x2)^2 + (y1 - y2)^2)\n",
    "        df[f'distance_from_{i}']=(np.sqrt(\n",
    "                                    (df['x'] - centroids[i][0]) ** 2\n",
    "                                 + (df['y'] - centroids[i][1]) ** 2\n",
    "        )\n",
    "        )\n",
    "\n",
    "    centroid_distance_cols=[f\"distance_from_{i}\" for i in centroids.keys()]\n",
    "    print(centroid_distance_cols)\n",
    "    df['closest']=df.loc[:, centroid_distance_cols].idxmin(axis=1)\n",
    "    df['closest']=df['closest'].map(lambda x : int(x.lstrip('distance_from_')))\n",
    "    df['color']=df['closest'].map(lambda x : colmap[x])\n",
    "    return df\n",
    "\n",
    "df=assigment(df, centroids)\n",
    "df.head()\n",
    "\n",
    "fig=plt.figure(figsize=(5,5))\n",
    "plt.scatter(df['x'], df['y'], color=df['color'], alpha=0.5, edgecolors='k')\n",
    "for i in centroids.keys():\n",
    "    plt.scatter(*centroids[i], color=colmap[i])\n",
    "plt.xlim(0,80)\n",
    "plt.ylim(0,80)\n",
    "plt.show()"
   ]
  },
  {
   "cell_type": "code",
   "execution_count": null,
   "metadata": {},
   "outputs": [],
   "source": [
    "#Update stage\n",
    "import copy\n",
    "old_centroids=copy.deepcopy(centroids)\n",
    "\n",
    "def update(k):\n",
    "    for i in centroids.keys():\n",
    "        centroids[i][0]=np.mean(df[df['closest']==i]['x'])\n",
    "        centroids[i][1]=np.mean(df[df['closest']==i]['y'])\n",
    "    return k\n",
    "\n",
    "centroids=update(centroids)\n",
    "# print(centroids)\n",
    "\n",
    "fig=plt.figure(figsize=(5,5))\n",
    "ax=plt.axes()\n",
    "plt.scatter(df['x'], df['y'], color=df['color'], alpha=0.5, edgecolors='k')\n",
    "for i in centroids.keys():\n",
    "    plt.scatter(*centroids, color=colmap[i])\n",
    "\n",
    "plt.xlim(0, 80)\n",
    "plt.ylim(0, 80)\n",
    "for i in old_centroids.keys():\n",
    "    old_x=old_centroids[i][0]\n",
    "    old_y=old_centroids[i][1]\n",
    "    dx=(centroids[i][0] - old_centroids[i][0]) * 0.75\n",
    "    dy=(centroids[i][1] - old_centroids[i][1]) * 0.75\n",
    "    ax.arrow(old_x, old_y, dx, dy, head_width=2, head_length=3, fc=colmap[i], ec=colmap[i])\n",
    "#     ax.arrow(old_x, old_y, dx, dy, head_width=2, head_length=3, fc=colmap[i], ec=colmap[i])\n",
    "plt.show()\n",
    "        "
   ]
  },
  {
   "cell_type": "code",
   "execution_count": null,
   "metadata": {},
   "outputs": [],
   "source": [
    "#Repeat Assignment Stage\n",
    "df=assigment(df, centroids)\n",
    "\n",
    "#PLot results\n",
    "fig=plt.figure(figsize=(5,5))\n",
    "plt.scatter(df['x'], df['y'], color=df['color'], alpha=0.5, edgecolors='k')\n",
    "for i in centroids.keys():\n",
    "    plt.scatter(*centroids[i], color=colmap[i])\n",
    "plt.xlim(0,80)\n",
    "plt.ylim(0,80)\n",
    "plt.show()"
   ]
  },
  {
   "cell_type": "code",
   "execution_count": null,
   "metadata": {},
   "outputs": [],
   "source": [
    "#Continue until all assigned categories don't change any more \n",
    "\n",
    "while True:\n",
    "    closest_centroids=df['closest'].copy(deep=True)\n",
    "    centroids=update(centroids)\n",
    "    df=assigment(df, centroids)\n",
    "    if closest_centroids.equals(df['closest']):\n",
    "        break\n",
    "        \n",
    "fig=plt.figure(figsize=(5,5))\n",
    "plt.scatter(df['x'], df['y'], color=df['color'], alpha=0.5, edgecolors='k')\n",
    "for i in centroids.keys():\n",
    "    plt.scatter(*centroids[i], color=colmap[i])\n",
    "plt.xlim(0,80)\n",
    "plt.ylim(0,80)\n",
    "plt.show()"
   ]
  },
  {
   "cell_type": "code",
   "execution_count": null,
   "metadata": {},
   "outputs": [],
   "source": []
  }
 ],
 "metadata": {
  "kernelspec": {
   "display_name": "Python 3 (ipykernel)",
   "language": "python",
   "name": "python3"
  },
  "language_info": {
   "codemirror_mode": {
    "name": "ipython",
    "version": 3
   },
   "file_extension": ".py",
   "mimetype": "text/x-python",
   "name": "python",
   "nbconvert_exporter": "python",
   "pygments_lexer": "ipython3",
   "version": "3.9.6"
  }
 },
 "nbformat": 4,
 "nbformat_minor": 2
}
