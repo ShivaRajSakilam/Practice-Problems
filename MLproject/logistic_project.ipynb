{
 "cells": [
  {
   "cell_type": "code",
   "execution_count": null,
   "id": "dd11a25f",
   "metadata": {},
   "outputs": [],
   "source": [
    "%matplotlib inline\n",
    "import matplotlib.pyplot as plt\n",
    "import seaborn as sns\n",
    "import pandas as pd\n",
    "import statsmodels.api as sm\n",
    "import numpy as np"
   ]
  },
  {
   "cell_type": "code",
   "execution_count": null,
   "id": "bb6ebb22",
   "metadata": {},
   "outputs": [],
   "source": [
    "df = pd.read_csv('heart_disease.csv.txt')\n",
    "df.head()"
   ]
  },
  {
   "cell_type": "code",
   "execution_count": null,
   "id": "17cd0e7c",
   "metadata": {},
   "outputs": [],
   "source": [
    "model = sm.GLM.from_formula(\"AHD ~ Age\", family = sm.families.Binomial(), data=df)\n",
    "result = model.fit()\n",
    "result.summary()"
   ]
  },
  {
   "cell_type": "code",
   "execution_count": null,
   "id": "61249d33",
   "metadata": {},
   "outputs": [],
   "source": [
    "df[\"Sex1\"] = df.Sex.replace({1: \"Male\", 0:\"Female\"})\n",
    "c = pd.crosstab(df.Sex1, df.AHD)\n",
    "c = c.apply(lambda x: x/x.sum(), axis=1)\n",
    "c\n",
    "# c[\"odds\"] = c.loc[:,0] / c.loc[:, 0]"
   ]
  },
  {
   "cell_type": "code",
   "execution_count": null,
   "id": "d6a73b4a",
   "metadata": {},
   "outputs": [],
   "source": [
    "model = sm.GLM.from_formula(\"AHD ~ Sex1\", family = sm.families.Binomial(), data=df)\n",
    "result = model.fit()\n",
    "result.summary()"
   ]
  },
  {
   "cell_type": "code",
   "execution_count": null,
   "id": "1177ba04",
   "metadata": {},
   "outputs": [],
   "source": [
    "df[\"Sex1\"] = df.Sex.replace({1: \"Male\", 0:\"Female\"})\n",
    "c = pd.crosstab(df.Sex1, df.AHD)\n",
    "c = c.apply(lambda x: x/x.sum(), axis=1)\n",
    "c"
   ]
  },
  {
   "cell_type": "code",
   "execution_count": null,
   "id": "8f10b329",
   "metadata": {},
   "outputs": [],
   "source": [
    "model = sm.GLM.from_formula(\"AHD ~ Age + Sex1\", family = sm.families.Binomial(), data=df)\n",
    "result = model.fit()\n",
    "result.summary()"
   ]
  },
  {
   "cell_type": "code",
   "execution_count": null,
   "id": "47d77aad",
   "metadata": {},
   "outputs": [],
   "source": [
    "model = sm.GLM.from_formula(\"AHD ~ Age + Sex1 + Chol\", family = sm.families.Binomial(), data=df)\n",
    "result = model.fit()\n",
    "result.summary()"
   ]
  },
  {
   "cell_type": "code",
   "execution_count": null,
   "id": "7e097ba8",
   "metadata": {},
   "outputs": [],
   "source": [
    "df[['Age', 'Sex', 'Chol']].corr()"
   ]
  },
  {
   "cell_type": "code",
   "execution_count": null,
   "id": "d7c17ade",
   "metadata": {},
   "outputs": [],
   "source": [
    "from statsmodels.sandbox.predict_functional import predict_functional\n",
    "values= {\"Sex1\": \"Female\", \"Sex\":0, \"AHD\": 1, \"Chol\": 250}\n",
    "# type(values)\n",
    "\n",
    "# pr, cb, fv = predict_functional(result,focus_var='Age', values=values, ci_method=\"simultaneous\")\n",
    "\n",
    "# ax = sns.lineplot(fv, pr, lw=4)\n",
    "# ax.fill_between(fv, cb[:,0], cb[:, 1], color='grey', alpha=0.4)\n",
    "# ax.set_xlabel(\"Age\")\n",
    "# ax.set_ylabel(\"Heart Disease\")\n"
   ]
  },
  {
   "cell_type": "code",
   "execution_count": null,
   "id": "78675a4f",
   "metadata": {},
   "outputs": [],
   "source": [
    "# pr1 = 1 / (1 + np.exp(-pr))\n",
    "# cb1 = 1 / (1 + np.exp(-cb))\n",
    "# ax = sns.lineplot(fv, pr1, lw=4)\n",
    "# ax.fill_between(fv, cb1[:, 0], cb[:, 1], color='grey', alpha=0.4)\n",
    "# ax.set_xlabel(\"Age\", size=15)\n",
    "# ax.set_ylabel(\"Heart Disease\")"
   ]
  },
  {
   "cell_type": "code",
   "execution_count": null,
   "id": "32ae5f3b",
   "metadata": {},
   "outputs": [],
   "source": [
    "from statsmodels.graphics.regressionplots import add_lowess\n",
    "fig = result.plot_partial_residuals(\"Age\")\n",
    "ax = fig.get_axes()[0]\n",
    "ax.lines[0].set_alpha(0.5)\n",
    "_ = add_lowess(ax)\n"
   ]
  },
  {
   "cell_type": "code",
   "execution_count": null,
   "id": "9bd5dfa5",
   "metadata": {},
   "outputs": [],
   "source": [
    "df['ChestPain'] = df.ChestPain.replace({\"typical\":1, \"asymptomatic\": 2, 'nonanginal': 3, 'nontypical':4})\n",
    "df['Thal'] = df.Thal.replace({'fixed': 1, 'normal': 2, 'reversable': 3})\n",
    "df[['Age', 'Sex1', 'Chol','RestBP', 'Fbs', 'RestECG', 'Slope', 'Oldpeak', 'Ca', 'ExAng', 'ChestPain', 'Thal']].corr()\n"
   ]
  },
  {
   "cell_type": "code",
   "execution_count": null,
   "id": "e306e081",
   "metadata": {},
   "outputs": [],
   "source": [
    "model = sm.GLM.from_formula(\"AHD ~ Age + Sex1 + Chol + RestBP+ Fbs + RestECG + Slope + Oldpeak + Ca + ExAng + ChestPain + Thal\", family = sm.families.Binomial(), data=df)\n",
    "result = model.fit()\n",
    "result.summary()"
   ]
  },
  {
   "cell_type": "code",
   "execution_count": null,
   "id": "253f082d",
   "metadata": {},
   "outputs": [],
   "source": [
    "X = df[['Age', 'Sex1', 'Chol','RestBP', 'Fbs', 'RestECG', 'Slope', 'Oldpeak', 'Ca', 'ExAng', 'ChestPain', 'Thal']]\n",
    "predicted_output = result.predict(X)\n",
    "predicted_output.fillna(0)\n",
    "print(predicted_output)"
   ]
  },
  {
   "cell_type": "code",
   "execution_count": null,
   "id": "e27e2664",
   "metadata": {},
   "outputs": [],
   "source": [
    "for i in range(1, len(predicted_output)):\n",
    "    predicted_output = predicted_output.replace()\n",
    "# print((predicted_output))\n",
    "    if predicted_output[i] >= 0.5:\n",
    "        predicted_output = predicted_output.replace(predicted_output[i], 1)\n",
    "    else:\n",
    "        predicted_output = predicted_output.replace(predicted_output[i], 0)\n",
    "# print(len(predicted_output))"
   ]
  },
  {
   "cell_type": "code",
   "execution_count": null,
   "id": "a4cfff40",
   "metadata": {},
   "outputs": [],
   "source": [
    "# accuracy = 0\n",
    "# for i in range(1, len(predicted_output)):\n",
    "#     if df['AHD'][i] == 'No':\n",
    "#         df['AHD'][i] = 0.0\n",
    "#     else:\n",
    "#         df['AHD'][i] = 1.0\n",
    "        \n",
    "#         if df['AHD'][i] == predicted_output[i]:\n",
    "#             accuracy += 1\n",
    "# #     print(df['AHD'][i], predicted_output[i])\n",
    "# accuracy/len(df)"
   ]
  }
 ],
 "metadata": {
  "kernelspec": {
   "display_name": "Python 3 (ipykernel)",
   "language": "python",
   "name": "python3"
  },
  "language_info": {
   "codemirror_mode": {
    "name": "ipython",
    "version": 3
   },
   "file_extension": ".py",
   "mimetype": "text/x-python",
   "name": "python",
   "nbconvert_exporter": "python",
   "pygments_lexer": "ipython3",
   "version": "3.9.6"
  }
 },
 "nbformat": 4,
 "nbformat_minor": 5
}
